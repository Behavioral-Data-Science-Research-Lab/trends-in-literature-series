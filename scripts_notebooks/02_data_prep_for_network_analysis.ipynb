{
 "cells": [
  {
   "cell_type": "markdown",
   "id": "e307e6dd",
   "metadata": {},
   "source": [
    "# The function of this notebook is to prep the data for citation network analyses"
   ]
  },
  {
   "cell_type": "markdown",
   "id": "d2a6190c",
   "metadata": {},
   "source": [
    "## Packages and Modules"
   ]
  },
  {
   "cell_type": "code",
   "execution_count": 1,
   "id": "aeb539d2",
   "metadata": {},
   "outputs": [],
   "source": [
    "# Data Manipulation\n",
    "import pandas as pd \n",
    "import numpy as np \n",
    "\n",
    "# Data visualization\n",
    "import matplotlib.pyplot as plt \n",
    "import seaborn as sns \n",
    "\n",
    "# NLP\n",
    "import nltk \n",
    "nltk.data.path.append(\"../models/\")\n",
    "from nltk.util import ngrams  \n",
    "from nltk import pos_tag\n",
    "from nltk.corpus import stopwords\n",
    "from nltk.tokenize import word_tokenize\n",
    "from collections import Counter\n",
    "import re "
   ]
  },
  {
   "cell_type": "markdown",
   "id": "e28de2ea",
   "metadata": {},
   "source": [
    "## The dataset"
   ]
  },
  {
   "cell_type": "code",
   "execution_count": null,
   "id": "a1747cb6",
   "metadata": {},
   "outputs": [],
   "source": [
    "raw_data = pd.read_csv(\"../dat\")"
   ]
  }
 ],
 "metadata": {
  "kernelspec": {
   "display_name": "Python 3 (ipykernel)",
   "language": "python",
   "name": "python3"
  },
  "language_info": {
   "codemirror_mode": {
    "name": "ipython",
    "version": 3
   },
   "file_extension": ".py",
   "mimetype": "text/x-python",
   "name": "python",
   "nbconvert_exporter": "python",
   "pygments_lexer": "ipython3",
   "version": "3.9.7"
  }
 },
 "nbformat": 4,
 "nbformat_minor": 5
}
