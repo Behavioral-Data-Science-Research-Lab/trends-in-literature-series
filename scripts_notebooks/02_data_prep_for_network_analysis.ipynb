{
 "cells": [
  {
   "cell_type": "markdown",
   "id": "e44b1d44",
   "metadata": {},
   "source": [
    "## The purpose of this notebook is to prep the raw data for citation network analyses"
   ]
  },
  {
   "cell_type": "markdown",
   "id": "af7ecb93",
   "metadata": {},
   "source": [
    "## Packages and Modules"
   ]
  },
  {
   "cell_type": "code",
   "execution_count": 1,
   "id": "02776b80",
   "metadata": {},
   "outputs": [],
   "source": [
    "# Data Manipulation\n",
    "import pandas as pd \n",
    "import numpy as np \n",
    "\n",
    "# Data visualization\n",
    "import matplotlib.pyplot as plt \n",
    "import seaborn as sns \n",
    "\n",
    "# NLP\n",
    "import nltk \n",
    "nltk.data.path.append(\"../models/\")\n",
    "from nltk.util import ngrams  \n",
    "from nltk import pos_tag\n",
    "from nltk.corpus import stopwords\n",
    "from nltk.tokenize import word_tokenize\n",
    "import spacy\n",
    "import re \n",
    "\n",
    "# Preferences\n",
    "from IPython.display import clear_output"
   ]
  },
  {
   "cell_type": "markdown",
   "id": "0b69dc8c",
   "metadata": {},
   "source": [
    "## The dataset"
   ]
  },
  {
   "cell_type": "code",
   "execution_count": 2,
   "id": "3a7dc26a",
   "metadata": {},
   "outputs": [
    {
     "data": {
      "text/html": [
       "<div>\n",
       "<style scoped>\n",
       "    .dataframe tbody tr th:only-of-type {\n",
       "        vertical-align: middle;\n",
       "    }\n",
       "\n",
       "    .dataframe tbody tr th {\n",
       "        vertical-align: top;\n",
       "    }\n",
       "\n",
       "    .dataframe thead th {\n",
       "        text-align: right;\n",
       "    }\n",
       "</style>\n",
       "<table border=\"1\" class=\"dataframe\">\n",
       "  <thead>\n",
       "    <tr style=\"text-align: right;\">\n",
       "      <th></th>\n",
       "      <th>article_title</th>\n",
       "      <th>authors</th>\n",
       "      <th>abstract</th>\n",
       "      <th>full_text</th>\n",
       "      <th>citation_info</th>\n",
       "      <th>processed</th>\n",
       "      <th>paragraph</th>\n",
       "    </tr>\n",
       "  </thead>\n",
       "  <tbody>\n",
       "    <tr>\n",
       "      <th>3290</th>\n",
       "      <td>A modified incidental-teaching procedure for a...</td>\n",
       "      <td>G G McGee, P J Krantz, D Mason, and  L E McCla...</td>\n",
       "      <td>A modified incidental-teaching procedure was u...</td>\n",
       "      <td>JOURNAL OF APPLIED BEHAVIOR ANALYSIS\\n\\n1983, ...</td>\n",
       "      <td>J Appl Behav Anal. 1983 Fall; 16(3): 329–338.</td>\n",
       "      <td>JOURNAL OF APPLIED BEHAVIOR ANALYSIS 1983, 161...</td>\n",
       "      <td>['JOURNAL OF APPLIED BEHAVIOR ANALYSIS', '1983...</td>\n",
       "    </tr>\n",
       "    <tr>\n",
       "      <th>8419</th>\n",
       "      <td>Predicting Reinforcement: Utility of the Motiv...</td>\n",
       "      <td>Alan Poling,1 Amin Lotfizadeh,2 and  Timothy L...</td>\n",
       "      <td>Other articles detail the historical developme...</td>\n",
       "      <td>BEHAV ANALYST (2017) 40:49–56\\nDOI 10.1007/s40...</td>\n",
       "      <td>Behav Anal. 2017 Jun; 40(1): 49–56.</td>\n",
       "      <td>BEHAV ANALYST (2017) 40:49–56 DOI 10.1007/s406...</td>\n",
       "      <td>['BEHAV ANALYST (2017) 40:49–56\\nDOI 10.1007/s...</td>\n",
       "    </tr>\n",
       "    <tr>\n",
       "      <th>1747</th>\n",
       "      <td>Some Effects of Noncontingent Positive Reinfor...</td>\n",
       "      <td>Einar T IngvarssonYOUNGSTOWN STATE UNIVERSITY</td>\n",
       "      <td>Functional analysis suggested that the problem...</td>\n",
       "      <td>JOURNAL OF APPLIED BEHAVIOR ANALYSIS\\n\\n2008, ...</td>\n",
       "      <td>J Appl Behav Anal. 2008 Fall; 41(3): 435–440.</td>\n",
       "      <td>JOURNAL OF APPLIED BEHAVIOR ANALYSIS 2008, 41,...</td>\n",
       "      <td>['JOURNAL OF APPLIED BEHAVIOR ANALYSIS', '2008...</td>\n",
       "    </tr>\n",
       "    <tr>\n",
       "      <th>6534</th>\n",
       "      <td>Producing a change from competition to sharing...</td>\n",
       "      <td>Dennis R. Olvera and  Don F. Hake</td>\n",
       "      <td>Pairs of high-school students matched-to-sampl...</td>\n",
       "      <td>JOURNAL OF THE EXPERIMENTAI. ANALYSIS OF BEHAV...</td>\n",
       "      <td>J Exp Anal Behav. 1976 Nov; 26(3): 321–333.</td>\n",
       "      <td>JOURNAL OF THE EXPERIMENTAI. ANALYSIS OF BEHAV...</td>\n",
       "      <td>['JOURNAL OF THE EXPERIMENTAI. ANALYSIS OF BEH...</td>\n",
       "    </tr>\n",
       "    <tr>\n",
       "      <th>5861</th>\n",
       "      <td>Performance in continuously available multiple...</td>\n",
       "      <td>Douglas Elliffe and  Michael Davison</td>\n",
       "      <td>Three pigeons were given continuous access in ...</td>\n",
       "      <td>JOURNAL OF THE EXPERIMENTAL ANALYSIS OF BEHAVI...</td>\n",
       "      <td>J Exp Anal Behav. 1985 Nov; 44(3): 343–353.</td>\n",
       "      <td>JOURNAL OF THE EXPERIMENTAL ANALYSIS OF BEHAVI...</td>\n",
       "      <td>['JOURNAL OF THE EXPERIMENTAL ANALYSIS OF BEHA...</td>\n",
       "    </tr>\n",
       "  </tbody>\n",
       "</table>\n",
       "</div>"
      ],
      "text/plain": [
       "                                          article_title  \\\n",
       "3290  A modified incidental-teaching procedure for a...   \n",
       "8419  Predicting Reinforcement: Utility of the Motiv...   \n",
       "1747  Some Effects of Noncontingent Positive Reinfor...   \n",
       "6534  Producing a change from competition to sharing...   \n",
       "5861  Performance in continuously available multiple...   \n",
       "\n",
       "                                                authors  \\\n",
       "3290  G G McGee, P J Krantz, D Mason, and  L E McCla...   \n",
       "8419  Alan Poling,1 Amin Lotfizadeh,2 and  Timothy L...   \n",
       "1747      Einar T IngvarssonYOUNGSTOWN STATE UNIVERSITY   \n",
       "6534                  Dennis R. Olvera and  Don F. Hake   \n",
       "5861               Douglas Elliffe and  Michael Davison   \n",
       "\n",
       "                                               abstract  \\\n",
       "3290  A modified incidental-teaching procedure was u...   \n",
       "8419  Other articles detail the historical developme...   \n",
       "1747  Functional analysis suggested that the problem...   \n",
       "6534  Pairs of high-school students matched-to-sampl...   \n",
       "5861  Three pigeons were given continuous access in ...   \n",
       "\n",
       "                                              full_text  \\\n",
       "3290  JOURNAL OF APPLIED BEHAVIOR ANALYSIS\\n\\n1983, ...   \n",
       "8419  BEHAV ANALYST (2017) 40:49–56\\nDOI 10.1007/s40...   \n",
       "1747  JOURNAL OF APPLIED BEHAVIOR ANALYSIS\\n\\n2008, ...   \n",
       "6534  JOURNAL OF THE EXPERIMENTAI. ANALYSIS OF BEHAV...   \n",
       "5861  JOURNAL OF THE EXPERIMENTAL ANALYSIS OF BEHAVI...   \n",
       "\n",
       "                                       citation_info  \\\n",
       "3290  J Appl Behav Anal. 1983 Fall; 16(3): 329–338.    \n",
       "8419            Behav Anal. 2017 Jun; 40(1): 49–56.    \n",
       "1747  J Appl Behav Anal. 2008 Fall; 41(3): 435–440.    \n",
       "6534    J Exp Anal Behav. 1976 Nov; 26(3): 321–333.    \n",
       "5861    J Exp Anal Behav. 1985 Nov; 44(3): 343–353.    \n",
       "\n",
       "                                              processed  \\\n",
       "3290  JOURNAL OF APPLIED BEHAVIOR ANALYSIS 1983, 161...   \n",
       "8419  BEHAV ANALYST (2017) 40:49–56 DOI 10.1007/s406...   \n",
       "1747  JOURNAL OF APPLIED BEHAVIOR ANALYSIS 2008, 41,...   \n",
       "6534  JOURNAL OF THE EXPERIMENTAI. ANALYSIS OF BEHAV...   \n",
       "5861  JOURNAL OF THE EXPERIMENTAL ANALYSIS OF BEHAVI...   \n",
       "\n",
       "                                              paragraph  \n",
       "3290  ['JOURNAL OF APPLIED BEHAVIOR ANALYSIS', '1983...  \n",
       "8419  ['BEHAV ANALYST (2017) 40:49–56\\nDOI 10.1007/s...  \n",
       "1747  ['JOURNAL OF APPLIED BEHAVIOR ANALYSIS', '2008...  \n",
       "6534  ['JOURNAL OF THE EXPERIMENTAI. ANALYSIS OF BEH...  \n",
       "5861  ['JOURNAL OF THE EXPERIMENTAL ANALYSIS OF BEHA...  "
      ]
     },
     "execution_count": 2,
     "metadata": {},
     "output_type": "execute_result"
    }
   ],
   "source": [
    "raw_data = pd.read_csv(\"../data/02_intermediate/newlines_apos_removed_paragraphs_added.csv\")\n",
    "data = raw_data.copy()\n",
    "data.sample(5)"
   ]
  },
  {
   "cell_type": "code",
   "execution_count": 3,
   "id": "4d483e78",
   "metadata": {},
   "outputs": [
    {
     "data": {
      "text/plain": [
       "array(['Anal Verbal Behav.', 'nan', 'VB News.', 'Behav Anal Pract.',\n",
       "       'J Appl Behav Anal.', 'J Exp Anal Behav.', 'Perspect Behav Sci.',\n",
       "       'Behav Anal.'], dtype=object)"
      ]
     },
     "execution_count": 3,
     "metadata": {},
     "output_type": "execute_result"
    }
   ],
   "source": [
    "# Isolate the journal names\n",
    "journal_names = []\n",
    "for citation in data['citation_info'].astype(str):\n",
    "    # Find the year via regex\n",
    "    match = re.search(r'\\d{4}', citation)\n",
    "    if match:\n",
    "        end_index = match.start()\n",
    "        journal_name = citation[:end_index].strip()\n",
    "    else:\n",
    "        journal_name = citation  # If no year is found, assume the whole string is the journal name\n",
    "\n",
    "    journal_names.append(journal_name)\n",
    "\n",
    "data['journal'] = journal_names\n",
    "data['journal'].unique()"
   ]
  },
  {
   "cell_type": "code",
   "execution_count": 4,
   "id": "2c6df73d",
   "metadata": {},
   "outputs": [
    {
     "data": {
      "text/plain": [
       "array(['TAVB', nan, 'BAP', ' JABA', 'JEAB', 'PoBS'], dtype=object)"
      ]
     },
     "execution_count": 4,
     "metadata": {},
     "output_type": "execute_result"
    }
   ],
   "source": [
    "# Swap out the journal shorthand with an easier to use abbreviation\n",
    "journal_dict = {\n",
    "    'Anal Verbal Behav.': 'TAVB', \n",
    "    'VB News.': 'TAVB', \n",
    "    'Behav Anal Pract.': 'BAP', \n",
    "    'J Appl Behav Anal.': ' JABA', \n",
    "    'J Exp Anal Behav.': 'JEAB', \n",
    "    'Perspect Behav Sci.': 'PoBS', \n",
    "    'Behav Anal': 'PoBS'\n",
    "}\n",
    "data['journal'] = data['journal'].map(journal_dict)\n",
    "data['journal'].unique()"
   ]
  },
  {
   "cell_type": "code",
   "execution_count": 5,
   "id": "3a9f829d",
   "metadata": {},
   "outputs": [],
   "source": [
    "# Replace \"- \"\n",
    "data['processed'] = [str(val).replace(\"- \", \"\") for val in data['processed']]"
   ]
  },
  {
   "cell_type": "code",
   "execution_count": 6,
   "id": "20e38bcd",
   "metadata": {},
   "outputs": [],
   "source": [
    "# Function for separating the manuscript into the respective sections\n",
    "def section_isolator(processing_col, section_start_name, next_section_name):\n",
    "        new_col = []\n",
    "        for val in processing_col:\n",
    "            try:\n",
    "                new_col.append(str(val).lower().split(f\"{section_start_name}\")[1])\n",
    "            except:\n",
    "                new_col.append(val)\n",
    "        new_col = [str(val).split(f\"{next_section_name}\")[0] for val in new_col]\n",
    "        return new_col"
   ]
  },
  {
   "cell_type": "code",
   "execution_count": 7,
   "id": "0e6a646a",
   "metadata": {},
   "outputs": [],
   "source": [
    "# Function to reverse a string\n",
    "def reverse_string(s):\n",
    "    return s[::-1]\n",
    "\n",
    "# Function to find the last part of text after the last occurrence of 'reference'\n",
    "def get_references_section(text):\n",
    "    # Reverse the text and the word 'references'\n",
    "    reversed_text = reverse_string(text.lower())\n",
    "    reversed_word = reverse_string(\" references\")\n",
    "\n",
    "    # Find the index of the last occurrence of 'references'\n",
    "    idx = reversed_text.find(reversed_word)\n",
    "\n",
    "    # If 'references' is found, return the part after it; otherwise, return the original text\n",
    "    if idx != -1:\n",
    "        # Calculate the actual index in the original text\n",
    "        actual_idx = len(text) - idx - len(\"references\")\n",
    "        return text[actual_idx:].strip()\n",
    "    else:\n",
    "        return text"
   ]
  },
  {
   "cell_type": "code",
   "execution_count": 8,
   "id": "7c242702",
   "metadata": {},
   "outputs": [],
   "source": [
    "# Isolate the references section\n",
    "new_col = []\n",
    "for val in data['processed']:\n",
    "    references_section = get_references_section(val)\n",
    "    new_col.append(references_section)\n",
    "\n",
    "data['references'] = new_col\n",
    "data['references'] = data['references'].astype(str)"
   ]
  },
  {
   "cell_type": "markdown",
   "id": "deeda49f",
   "metadata": {},
   "source": [
    "## Create a matrix of the count of each article being cited within the others"
   ]
  },
  {
   "cell_type": "code",
   "execution_count": 9,
   "id": "a236cba0",
   "metadata": {},
   "outputs": [
    {
     "name": "stdout",
     "output_type": "stream",
     "text": [
      "Processed 9334 of 9334 titles.\n"
     ]
    }
   ],
   "source": [
    "# Lowercase the titles and references once\n",
    "data['article_title'] = data['article_title'].str.lower()\n",
    "data['references'] = data['references'].str.lower()\n",
    "\n",
    "# Create a dictionary to hold the data\n",
    "cite_data = {}\n",
    "\n",
    "# Get unique titles\n",
    "unique_titles = data['article_title'].unique()\n",
    "total_titles = len(unique_titles)\n",
    "\n",
    "# Loop through unique titles\n",
    "for index, title in enumerate(unique_titles, 1):\n",
    "    # Escape any special characters in the title for regular expression\n",
    "    escaped_title = re.escape(title)\n",
    "\n",
    "    # Use vectorized string contains method with the escaped title\n",
    "    cite_data[title] = data['references'].str.contains(escaped_title, regex=True).astype(int)\n",
    "\n",
    "    # Print progress update every 50 articles\n",
    "    if index % 50 == 0 or index == total_titles:\n",
    "        clear_output()\n",
    "        print(f\"Processed {index} of {total_titles} titles.\")\n",
    "\n",
    "# Convert the dictionary to a DataFrame\n",
    "cite_matrix = pd.DataFrame(cite_data)"
   ]
  },
  {
   "cell_type": "code",
   "execution_count": 10,
   "id": "468ce0cb",
   "metadata": {},
   "outputs": [],
   "source": [
    "cite_matrix.index = data['article_title']\n",
    "cite_matrix.to_csv(\"../data/02_intermediate/citation_matrix.csv\")"
   ]
  }
 ],
 "metadata": {
  "kernelspec": {
   "display_name": "Python 3 (ipykernel)",
   "language": "python",
   "name": "python3"
  },
  "language_info": {
   "codemirror_mode": {
    "name": "ipython",
    "version": 3
   },
   "file_extension": ".py",
   "mimetype": "text/x-python",
   "name": "python",
   "nbconvert_exporter": "python",
   "pygments_lexer": "ipython3",
   "version": "3.9.7"
  }
 },
 "nbformat": 4,
 "nbformat_minor": 5
}
