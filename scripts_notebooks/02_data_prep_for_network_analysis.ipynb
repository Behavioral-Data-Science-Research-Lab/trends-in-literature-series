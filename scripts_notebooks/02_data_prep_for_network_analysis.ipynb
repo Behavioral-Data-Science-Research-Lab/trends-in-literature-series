{
 "cells": [
  {
   "cell_type": "markdown",
   "id": "e44b1d44",
   "metadata": {},
   "source": [
    "## The purpose of this notebook is to prep the raw data for citation network analyses"
   ]
  },
  {
   "cell_type": "markdown",
   "id": "af7ecb93",
   "metadata": {},
   "source": [
    "## Packages and Modules"
   ]
  },
  {
   "cell_type": "code",
   "execution_count": 1,
   "id": "02776b80",
   "metadata": {},
   "outputs": [],
   "source": [
    "# Data Manipulation\n",
    "import pandas as pd \n",
    "import numpy as np \n",
    "\n",
    "# Data visualization\n",
    "import matplotlib.pyplot as plt \n",
    "import seaborn as sns \n",
    "\n",
    "# NLP\n",
    "import nltk \n",
    "nltk.data.path.append(\"../models/\")\n",
    "from nltk.util import ngrams  \n",
    "from nltk import pos_tag\n",
    "from nltk.corpus import stopwords\n",
    "from nltk.tokenize import word_tokenize\n",
    "import spacy\n",
    "import re \n",
    "\n",
    "# Preferences\n",
    "from IPython.display import clear_output"
   ]
  },
  {
   "cell_type": "markdown",
   "id": "0b69dc8c",
   "metadata": {},
   "source": [
    "## The dataset"
   ]
  },
  {
   "cell_type": "code",
   "execution_count": 2,
   "id": "3a7dc26a",
   "metadata": {},
   "outputs": [
    {
     "data": {
      "text/html": [
       "<div>\n",
       "<style scoped>\n",
       "    .dataframe tbody tr th:only-of-type {\n",
       "        vertical-align: middle;\n",
       "    }\n",
       "\n",
       "    .dataframe tbody tr th {\n",
       "        vertical-align: top;\n",
       "    }\n",
       "\n",
       "    .dataframe thead th {\n",
       "        text-align: right;\n",
       "    }\n",
       "</style>\n",
       "<table border=\"1\" class=\"dataframe\">\n",
       "  <thead>\n",
       "    <tr style=\"text-align: right;\">\n",
       "      <th></th>\n",
       "      <th>article_title</th>\n",
       "      <th>authors</th>\n",
       "      <th>abstract</th>\n",
       "      <th>full_text</th>\n",
       "      <th>citation_info</th>\n",
       "      <th>processed</th>\n",
       "      <th>paragraph</th>\n",
       "    </tr>\n",
       "  </thead>\n",
       "  <tbody>\n",
       "    <tr>\n",
       "      <th>3092</th>\n",
       "      <td>Group instruction with profoundly retarded per...</td>\n",
       "      <td>M M Schepis, D H Reid, and  J R Fitzgerald</td>\n",
       "      <td>We evaluated a group instruction program for t...</td>\n",
       "      <td>JOURNAL OF APPLIED BEHAVIOR ANALYSIS\\n\\n1987, ...</td>\n",
       "      <td>J Appl Behav Anal. 1987 Spring; 20(1): 97–105.</td>\n",
       "      <td>JOURNAL OF APPLIED BEHAVIOR ANALYSIS 1987, 20,...</td>\n",
       "      <td>['JOURNAL OF APPLIED BEHAVIOR ANALYSIS', '1987...</td>\n",
       "    </tr>\n",
       "    <tr>\n",
       "      <th>4393</th>\n",
       "      <td>The Journal of The Experimental Analysis of Be...</td>\n",
       "      <td>Victor G Laties</td>\n",
       "      <td>The Journal of the Experimental Analysis of Be...</td>\n",
       "      <td>JOURNAL OF THE EXPERIMENTAL ANALYSIS OF BEHAVI...</td>\n",
       "      <td>J Exp Anal Behav. 2008 Jan; 89(1): 95–109.</td>\n",
       "      <td>JOURNAL OF THE EXPERIMENTAL ANALYSIS OF BEHAVI...</td>\n",
       "      <td>['JOURNAL OF THE EXPERIMENTAL ANALYSIS OF BEHA...</td>\n",
       "    </tr>\n",
       "    <tr>\n",
       "      <th>6920</th>\n",
       "      <td>Schedule-induced escape from fixed-interval re...</td>\n",
       "      <td>Thomas G. Brown and  Randall K. Flory</td>\n",
       "      <td>Pigeons trained to peck one of two keys for fo...</td>\n",
       "      <td>JOURNAL OF THE EXPERIMENTAL ANALYSIS OF BEHAVI...</td>\n",
       "      <td>J Exp Anal Behav. 1972 May; 17(3): 395–403.</td>\n",
       "      <td>JOURNAL OF THE EXPERIMENTAL ANALYSIS OF BEHAVI...</td>\n",
       "      <td>['JOURNAL OF THE EXPERIMENTAL ANALYSIS OF BEHA...</td>\n",
       "    </tr>\n",
       "    <tr>\n",
       "      <th>2432</th>\n",
       "      <td>Prompted voiding to reduce incontinence in com...</td>\n",
       "      <td>V K Adkins and  R M Mathews</td>\n",
       "      <td>In-home caregivers were taught to implement a ...</td>\n",
       "      <td>(cid:74)(cid:79)(cid:85)(cid:82)(cid:78)(cid:6...</td>\n",
       "      <td>J Appl Behav Anal. 1997 Spring; 30(1): 153–156.</td>\n",
       "      <td>(cid:74)(cid:79)(cid:85)(cid:82)(cid:78)(cid:6...</td>\n",
       "      <td>['(cid:74)(cid:79)(cid:85)(cid:82)(cid:78)(cid...</td>\n",
       "    </tr>\n",
       "    <tr>\n",
       "      <th>3621</th>\n",
       "      <td>Pyramid training of elementary school teachers...</td>\n",
       "      <td>Fredric H. Jones, William Fremouw,2 and  Steve...</td>\n",
       "      <td>NaN</td>\n",
       "      <td>JOURNAL OF APPLIED BEHAVIOR ANALYSIS\\n\\n1977, ...</td>\n",
       "      <td>J Appl Behav Anal. 1977 Summer; 10(2): 239–253.</td>\n",
       "      <td>JOURNAL OF APPLIED BEHAVIOR ANALYSIS 1977, 10,...</td>\n",
       "      <td>['JOURNAL OF APPLIED BEHAVIOR ANALYSIS', '1977...</td>\n",
       "    </tr>\n",
       "  </tbody>\n",
       "</table>\n",
       "</div>"
      ],
      "text/plain": [
       "                                          article_title  \\\n",
       "3092  Group instruction with profoundly retarded per...   \n",
       "4393  The Journal of The Experimental Analysis of Be...   \n",
       "6920  Schedule-induced escape from fixed-interval re...   \n",
       "2432  Prompted voiding to reduce incontinence in com...   \n",
       "3621  Pyramid training of elementary school teachers...   \n",
       "\n",
       "                                                authors  \\\n",
       "3092         M M Schepis, D H Reid, and  J R Fitzgerald   \n",
       "4393                                    Victor G Laties   \n",
       "6920              Thomas G. Brown and  Randall K. Flory   \n",
       "2432                        V K Adkins and  R M Mathews   \n",
       "3621  Fredric H. Jones, William Fremouw,2 and  Steve...   \n",
       "\n",
       "                                               abstract  \\\n",
       "3092  We evaluated a group instruction program for t...   \n",
       "4393  The Journal of the Experimental Analysis of Be...   \n",
       "6920  Pigeons trained to peck one of two keys for fo...   \n",
       "2432  In-home caregivers were taught to implement a ...   \n",
       "3621                                                NaN   \n",
       "\n",
       "                                              full_text  \\\n",
       "3092  JOURNAL OF APPLIED BEHAVIOR ANALYSIS\\n\\n1987, ...   \n",
       "4393  JOURNAL OF THE EXPERIMENTAL ANALYSIS OF BEHAVI...   \n",
       "6920  JOURNAL OF THE EXPERIMENTAL ANALYSIS OF BEHAVI...   \n",
       "2432  (cid:74)(cid:79)(cid:85)(cid:82)(cid:78)(cid:6...   \n",
       "3621  JOURNAL OF APPLIED BEHAVIOR ANALYSIS\\n\\n1977, ...   \n",
       "\n",
       "                                         citation_info  \\\n",
       "3092   J Appl Behav Anal. 1987 Spring; 20(1): 97–105.    \n",
       "4393       J Exp Anal Behav. 2008 Jan; 89(1): 95–109.    \n",
       "6920      J Exp Anal Behav. 1972 May; 17(3): 395–403.    \n",
       "2432  J Appl Behav Anal. 1997 Spring; 30(1): 153–156.    \n",
       "3621  J Appl Behav Anal. 1977 Summer; 10(2): 239–253.    \n",
       "\n",
       "                                              processed  \\\n",
       "3092  JOURNAL OF APPLIED BEHAVIOR ANALYSIS 1987, 20,...   \n",
       "4393  JOURNAL OF THE EXPERIMENTAL ANALYSIS OF BEHAVI...   \n",
       "6920  JOURNAL OF THE EXPERIMENTAL ANALYSIS OF BEHAVI...   \n",
       "2432  (cid:74)(cid:79)(cid:85)(cid:82)(cid:78)(cid:6...   \n",
       "3621  JOURNAL OF APPLIED BEHAVIOR ANALYSIS 1977, 10,...   \n",
       "\n",
       "                                              paragraph  \n",
       "3092  ['JOURNAL OF APPLIED BEHAVIOR ANALYSIS', '1987...  \n",
       "4393  ['JOURNAL OF THE EXPERIMENTAL ANALYSIS OF BEHA...  \n",
       "6920  ['JOURNAL OF THE EXPERIMENTAL ANALYSIS OF BEHA...  \n",
       "2432  ['(cid:74)(cid:79)(cid:85)(cid:82)(cid:78)(cid...  \n",
       "3621  ['JOURNAL OF APPLIED BEHAVIOR ANALYSIS', '1977...  "
      ]
     },
     "execution_count": 2,
     "metadata": {},
     "output_type": "execute_result"
    }
   ],
   "source": [
    "raw_data = pd.read_csv(\"../data/02_intermediate/newlines_apos_removed_paragraphs_added.csv\")\n",
    "data = raw_data.copy()\n",
    "data.sample(5)"
   ]
  },
  {
   "cell_type": "code",
   "execution_count": 3,
   "id": "4d483e78",
   "metadata": {},
   "outputs": [
    {
     "data": {
      "text/plain": [
       "array(['Anal Verbal Behav.', 'nan', 'VB News.', 'Behav Anal Pract.',\n",
       "       'J Appl Behav Anal.', 'J Exp Anal Behav.', 'Perspect Behav Sci.',\n",
       "       'Behav Anal.'], dtype=object)"
      ]
     },
     "execution_count": 3,
     "metadata": {},
     "output_type": "execute_result"
    }
   ],
   "source": [
    "# Isolate the journal names\n",
    "journal_names = []\n",
    "for citation in data['citation_info'].astype(str):\n",
    "    # Find the year via regex\n",
    "    match = re.search(r'\\d{4}', citation)\n",
    "    if match:\n",
    "        end_index = match.start()\n",
    "        journal_name = citation[:end_index].strip()\n",
    "    else:\n",
    "        journal_name = citation  # If no year is found, assume the whole string is the journal name\n",
    "\n",
    "    journal_names.append(journal_name)\n",
    "\n",
    "data['journal'] = journal_names\n",
    "data['journal'].unique()"
   ]
  },
  {
   "cell_type": "code",
   "execution_count": 4,
   "id": "2c6df73d",
   "metadata": {},
   "outputs": [
    {
     "data": {
      "text/plain": [
       "array(['TAVB', nan, 'BAP', 'JABA', 'JEAB', 'PoBS'], dtype=object)"
      ]
     },
     "execution_count": 4,
     "metadata": {},
     "output_type": "execute_result"
    }
   ],
   "source": [
    "# Swap out the journal shorthand with an easier to use abbreviation\n",
    "journal_dict = {\n",
    "    'Anal Verbal Behav.': 'TAVB', \n",
    "    'VB News.': 'TAVB', \n",
    "    'Behav Anal Pract.': 'BAP', \n",
    "    'J Appl Behav Anal.': 'JABA', \n",
    "    'J Exp Anal Behav.': 'JEAB', \n",
    "    'Perspect Behav Sci.': 'PoBS', \n",
    "    'Behav Anal': 'PoBS'\n",
    "}\n",
    "data['journal'] = data['journal'].map(journal_dict)\n",
    "data['journal'].unique()"
   ]
  },
  {
   "cell_type": "code",
   "execution_count": 5,
   "id": "3a9f829d",
   "metadata": {},
   "outputs": [],
   "source": [
    "# Replace \"- \"\n",
    "data['processed'] = [str(val).replace(\"- \", \"\") for val in data['processed']]"
   ]
  },
  {
   "cell_type": "code",
   "execution_count": 6,
   "id": "20e38bcd",
   "metadata": {},
   "outputs": [],
   "source": [
    "# Function for separating the manuscript into the respective sections\n",
    "def section_isolator(processing_col, section_start_name, next_section_name):\n",
    "        new_col = []\n",
    "        for val in processing_col:\n",
    "            try:\n",
    "                new_col.append(str(val).lower().split(f\"{section_start_name}\")[1])\n",
    "            except:\n",
    "                new_col.append(val)\n",
    "        new_col = [str(val).split(f\"{next_section_name}\")[0] for val in new_col]\n",
    "        return new_col"
   ]
  },
  {
   "cell_type": "code",
   "execution_count": 7,
   "id": "0e6a646a",
   "metadata": {},
   "outputs": [],
   "source": [
    "# Function to reverse a string\n",
    "def reverse_string(s):\n",
    "    return s[::-1]\n",
    "\n",
    "# Function to find the last part of text after the last occurrence of 'reference'\n",
    "def get_references_section(text):\n",
    "    # Reverse the text and the word 'references'\n",
    "    reversed_text = reverse_string(text.lower())\n",
    "    reversed_word = reverse_string(\" references\")\n",
    "\n",
    "    # Find the index of the last occurrence of 'references'\n",
    "    idx = reversed_text.find(reversed_word)\n",
    "\n",
    "    # If 'references' is found, return the part after it; otherwise, return the original text\n",
    "    if idx != -1:\n",
    "        # Calculate the actual index in the original text\n",
    "        actual_idx = len(text) - idx - len(\"references\")\n",
    "        return text[actual_idx:].strip()\n",
    "    else:\n",
    "        return text"
   ]
  },
  {
   "cell_type": "code",
   "execution_count": 8,
   "id": "7c242702",
   "metadata": {},
   "outputs": [],
   "source": [
    "# Isolate the references section\n",
    "new_col = []\n",
    "for val in data['processed']:\n",
    "    references_section = get_references_section(val)\n",
    "    new_col.append(references_section)\n",
    "\n",
    "data['references'] = new_col\n",
    "data['references'] = data['references'].astype(str)"
   ]
  },
  {
   "cell_type": "markdown",
   "id": "deeda49f",
   "metadata": {},
   "source": [
    "## Create a matrix of the count of each article being cited within the others"
   ]
  },
  {
   "cell_type": "code",
   "execution_count": 9,
   "id": "a236cba0",
   "metadata": {},
   "outputs": [
    {
     "name": "stdout",
     "output_type": "stream",
     "text": [
      "Processed 9334 of 9334 titles.\n"
     ]
    }
   ],
   "source": [
    "# Lowercase the titles and references once\n",
    "data['article_title'] = data['article_title'].str.lower()\n",
    "data['references'] = data['references'].str.lower()\n",
    "\n",
    "# Create a dictionary to hold the data\n",
    "cite_data = {}\n",
    "\n",
    "# Get unique titles\n",
    "unique_titles = data['article_title'].unique()\n",
    "total_titles = len(unique_titles)\n",
    "\n",
    "# Loop through unique titles\n",
    "for index, title in enumerate(unique_titles, 1):\n",
    "    # Escape any special characters in the title for regular expression\n",
    "    escaped_title = re.escape(title)\n",
    "\n",
    "    # Use vectorized string contains method with the escaped title\n",
    "    cite_data[title] = data['references'].str.contains(escaped_title, regex=True).astype(int)\n",
    "\n",
    "    # Print progress update every 50 articles\n",
    "    if index % 50 == 0 or index == total_titles:\n",
    "        clear_output()\n",
    "        print(f\"Processed {index} of {total_titles} titles.\")\n",
    "\n",
    "# Convert the dictionary to a DataFrame\n",
    "cite_matrix = pd.DataFrame(cite_data)"
   ]
  },
  {
   "cell_type": "code",
   "execution_count": 10,
   "id": "468ce0cb",
   "metadata": {},
   "outputs": [],
   "source": [
    "# Save citation matrix\n",
    "cite_matrix.index = data['article_title']\n",
    "cite_matrix.to_csv(\"../data/02_intermediate/citation_matrix_using_contains.csv\")"
   ]
  },
  {
   "cell_type": "code",
   "execution_count": 11,
   "id": "59b75d28",
   "metadata": {},
   "outputs": [],
   "source": [
    "# Save data file\n",
    "data.to_csv(\"../data/02_intermediate/raw_data_cleaned_for_citation_matrix.csv\")"
   ]
  }
 ],
 "metadata": {
  "kernelspec": {
   "display_name": "Python 3 (ipykernel)",
   "language": "python",
   "name": "python3"
  },
  "language_info": {
   "codemirror_mode": {
    "name": "ipython",
    "version": 3
   },
   "file_extension": ".py",
   "mimetype": "text/x-python",
   "name": "python",
   "nbconvert_exporter": "python",
   "pygments_lexer": "ipython3",
   "version": "3.9.7"
  }
 },
 "nbformat": 4,
 "nbformat_minor": 5
}
